{
 "cells": [
  {
   "cell_type": "code",
   "execution_count": 5,
   "metadata": {},
   "outputs": [
    {
     "data": {
      "image/png": "[encoded data removed]",
      "text/plain": [
       "<Figure size 432x288 with 2 Axes>"
      ]
     },
     "metadata": {},
     "output_type": "display_data"
    },
    {
     "data": {
      "image/png": "[encoded data removed]",
      "text/plain": [
       "<Figure size 432x288 with 2 Axes>"
      ]
     },
     "metadata": {},
     "output_type": "display_data"
    },
    {
     "data": {
      "image/png": "[encoded data removed]",
      "text/plain": [
       "<Figure size 432x288 with 2 Axes>"
      ]
     },
     "metadata": {},
     "output_type": "display_data"
    },
    {
     "data": {
      "image/png": "[encoded data removed]",
      "text/plain": [
       "<Figure size 432x288 with 2 Axes>"
      ]
     },
     "metadata": {},
     "output_type": "display_data"
    }
   ],
   "source": [
    "import sys\n",
    "import glob\n",
    "import os\n",
    "import numpy as np\n",
    "import pdb\n",
    "import matplotlib.pyplot as plt\n",
    "from scipy import misc\n",
    "import random\n",
    "\n",
    "# load shapes\n",
    "shapes = glob.glob(os.path.join('shapes', '*.png'))\n",
    "for i, shape in enumerate(shapes):\n",
    "    # load the edge map\n",
    "    edge_map = plt.imread(shapes[i])\n",
    "    \n",
    "    # edges to zero, background to infinity\n",
    "    map_inf = edge_map.copy()\n",
    "    map_inf[map_inf == 0] = np.inf\n",
    "    map_inf[map_inf == 1] = 0\n",
    "    \n",
    "    # append two rows and two columns\n",
    "    app_column = np.ones((len(map_inf[:, 0]), 2)) * np.inf\n",
    "    app_row = np.ones((2, len(map_inf[0, :]) + 2)) * np.inf\n",
    "    map_half = np.c_[map_inf, app_column]\n",
    "    map_half = np.r_[map_half, app_row]\n",
    "    \n",
    "    # get distance from top left to bottom right\n",
    "    for i in range(1, len(map_half[:, 0]) - 1):\n",
    "        for j in range(1, len(map_half[0, :]) - 1):\n",
    "            bl = map_half[i + 1, j + 1] + 2\n",
    "            l = map_half[i, j - 1] + 1\n",
    "            tl = map_half[i - 1, j - 1] + 2\n",
    "            t = map_half[i - 1, j] + 1\n",
    "            c = map_half[i, j]\n",
    "            map_half[i, j] = np.amin(np.array([c, tl, l, bl, t]))\n",
    "            \n",
    "    # get discance from bottom right to top left\n",
    "    map_whole = map_half.copy()\n",
    "    for i in range(len(map_whole[:, 0]) - 2, 0, -1):\n",
    "        for j in range (len(map_whole[0, :]) - 2, 0, -1):\n",
    "            b = map_whole[i + 1, j] + 1\n",
    "            br = map_whole[i + 1, j + 1] + 2\n",
    "            r = map_whole[i, j + 1] + 1\n",
    "            tr = map_whole[i - 1, j + 1] + 2\n",
    "            c = map_whole[i, j]\n",
    "            map_whole[i,j] = np.amin(np.array([c, tr, r, br, b]))\n",
    "            \n",
    "    # caclulate distance map\n",
    "    # distance_map: array_like, same size as edge_map\n",
    "    distance_map = map_whole[1:len(map_whole[:,0]) - 1, 1:len(map_whole[0, :]) - 1]\n",
    "\n",
    "    # the top row of the plots should be the edge maps, and on the bottom the corresponding distance maps\n",
    "    k, l = i + 1, len(shapes) + i + 1\n",
    "    plt.subplot(2, len(shapes), k)\n",
    "    plt.imshow(edge_map, cmap='gray')\n",
    "    plt.subplot(2, len(shapes), l)\n",
    "    plt.imshow(distance_map, cmap='gray')\n",
    "\n",
    "    plt.show()"
   ]
  },
  {
   "cell_type": "code",
   "execution_count": null,
   "metadata": {},
   "outputs": [],
   "source": []
  }
 ],
 "metadata": {
  "kernelspec": {
   "display_name": "Python 3",
   "language": "python",
   "name": "python3"
  },
  "language_info": {
   "codemirror_mode": {
    "name": "ipython",
    "version": 3
   },
   "file_extension": ".py",
   "mimetype": "text/x-python",
   "name": "python",
   "nbconvert_exporter": "python",
   "pygments_lexer": "ipython3",
   "version": "3.6.5"
  }
 },
 "nbformat": 4,
 "nbformat_minor": 2
}
